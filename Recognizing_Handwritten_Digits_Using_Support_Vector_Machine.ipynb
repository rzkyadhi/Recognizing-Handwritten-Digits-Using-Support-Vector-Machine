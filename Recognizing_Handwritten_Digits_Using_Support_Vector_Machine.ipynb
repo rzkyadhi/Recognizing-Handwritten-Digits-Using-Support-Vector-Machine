{
  "nbformat": 4,
  "nbformat_minor": 0,
  "metadata": {
    "colab": {
      "name": "Recognizing Handwritten Digits Using Support Vector Machine.ipynb",
      "provenance": [],
      "authorship_tag": "ABX9TyNfz9YtScj9LEKDv20Qca1X",
      "include_colab_link": true
    },
    "kernelspec": {
      "name": "python3",
      "display_name": "Python 3"
    },
    "language_info": {
      "name": "python"
    }
  },
  "cells": [
    {
      "cell_type": "markdown",
      "metadata": {
        "id": "view-in-github",
        "colab_type": "text"
      },
      "source": [
        "<a href=\"https://colab.research.google.com/github/rzkyadhi/Recognizing-Handwritten-Digits-Using-Support-Vector-Machine/blob/main/Recognizing_Handwritten_Digits_Using_Support_Vector_Machine.ipynb\" target=\"_parent\"><img src=\"https://colab.research.google.com/assets/colab-badge.svg\" alt=\"Open In Colab\"/></a>"
      ]
    },
    {
      "cell_type": "code",
      "metadata": {
        "id": "OfhSu3DtkQoj"
      },
      "source": [
        "from sklearn import datasets, svm, metrics\n",
        "from sklearn.model_selection import train_test_split\n",
        "import matplotlib.pyplot as plt"
      ],
      "execution_count": 1,
      "outputs": []
    },
    {
      "cell_type": "code",
      "metadata": {
        "id": "PUCS7asckd3h"
      },
      "source": [
        "digits = datasets.load_digits()"
      ],
      "execution_count": 2,
      "outputs": []
    },
    {
      "cell_type": "code",
      "metadata": {
        "colab": {
          "base_uri": "https://localhost:8080/",
          "height": 168
        },
        "id": "5gqNaaWikiR-",
        "outputId": "c05e4c43-e371-473b-84df-72e9a04e282d"
      },
      "source": [
        "_, axes = plt.subplots(nrows=1, ncols=4, figsize=(10, 3))\n",
        "for ax, image, label in zip(axes, digits.images, digits.target):\n",
        "  ax.set_axis_off()\n",
        "  ax.imshow(image, cmap=plt.cm.gray_r, interpolation=\"nearest\")\n",
        "  ax.set_title(\"Training: %i\" % label)"
      ],
      "execution_count": 3,
      "outputs": [
        {
          "output_type": "display_data",
          "data": {
            "image/png": "[encoded data removed]",
            "text/plain": [
              "<Figure size 720x216 with 4 Axes>"
            ]
          },
          "metadata": {
            "needs_background": "light"
          }
        }
      ]
    },
    {
      "cell_type": "code",
      "metadata": {
        "colab": {
          "base_uri": "https://localhost:8080/"
        },
        "id": "V9gq1CbYlOCG",
        "outputId": "01c3aefa-a775-49ba-ad1a-f554f270bc2f"
      },
      "source": [
        "n_samples = len(digits.images)\n",
        "data = digits.images.reshape((n_samples, -1))\n",
        "\n",
        "clf = svm.SVC(gamma=0.001)\n",
        "\n",
        "x_train, x_test, y_train, y_test = train_test_split(data, digits.target, test_size=0.1)\n",
        "clf.fit(x_train, y_train)\n",
        "accuracy = clf.score(x_test, y_test)\n",
        "print(accuracy)\n",
        "predicted = clf.predict(x_test)"
      ],
      "execution_count": 8,
      "outputs": [
        {
          "output_type": "stream",
          "name": "stdout",
          "text": [
            "0.9833333333333333\n"
          ]
        }
      ]
    },
    {
      "cell_type": "code",
      "metadata": {
        "colab": {
          "base_uri": "https://localhost:8080/",
          "height": 168
        },
        "id": "MVEtTAnimDpg",
        "outputId": "63cec7a4-673e-4884-e439-3d47218bd4ce"
      },
      "source": [
        "_, axes = plt.subplots(nrows=1, ncols=4, figsize=(10, 3))\n",
        "for ax, image, prediction in zip(axes, x_test, predicted):\n",
        "  ax.set_axis_off()\n",
        "  image = image.reshape(8, 8)\n",
        "  ax.imshow(image, cmap=plt.cm.gray_r, interpolation=\"nearest\")\n",
        "  ax.set_title(f\"Prediction: {prediction}\")"
      ],
      "execution_count": 9,
      "outputs": [
        {
          "output_type": "display_data",
          "data": {
            "image/png": "[encoded data removed]",
            "text/plain": [
              "<Figure size 720x216 with 4 Axes>"
            ]
          },
          "metadata": {
            "needs_background": "light"
          }
        }
      ]
    },
    {
      "cell_type": "code",
      "metadata": {
        "colab": {
          "base_uri": "https://localhost:8080/"
        },
        "id": "WpVimJ9emiCZ",
        "outputId": "68a6bc7e-5731-4d70-d306-27fd1a1cee8d"
      },
      "source": [
        "print(\n",
        "    f\"Classification report for classifier {clf}:\\n\"\n",
        "    f\"{metrics.classification_report(y_test, predicted)}\\n\"\n",
        ")"
      ],
      "execution_count": 10,
      "outputs": [
        {
          "output_type": "stream",
          "name": "stdout",
          "text": [
            "Classification report for classifier SVC(gamma=0.001):\n",
            "              precision    recall  f1-score   support\n",
            "\n",
            "           0       1.00      1.00      1.00        21\n",
            "           1       1.00      1.00      1.00        23\n",
            "           2       0.95      1.00      0.97        19\n",
            "           3       1.00      0.95      0.98        22\n",
            "           4       1.00      1.00      1.00        16\n",
            "           5       1.00      0.94      0.97        17\n",
            "           6       0.94      1.00      0.97        17\n",
            "           7       1.00      1.00      1.00        17\n",
            "           8       0.92      1.00      0.96        12\n",
            "           9       1.00      0.94      0.97        16\n",
            "\n",
            "    accuracy                           0.98       180\n",
            "   macro avg       0.98      0.98      0.98       180\n",
            "weighted avg       0.98      0.98      0.98       180\n",
            "\n",
            "\n"
          ]
        }
      ]
    },
    {
      "cell_type": "code",
      "metadata": {
        "colab": {
          "base_uri": "https://localhost:8080/",
          "height": 512
        },
        "id": "PFxDAQDgmzje",
        "outputId": "1a4bb212-ddf7-4e65-9b61-1474053f0f20"
      },
      "source": [
        "disp = metrics.ConfusionMatrixDisplay.from_predictions(y_test, predicted)\n",
        "disp.figure_.suptitle(\"Confusion Matrix\")\n",
        "print(f\"Confusion matrix:\\n{disp.confusion_matrix}\")\n",
        "\n",
        "plt.show"
      ],
      "execution_count": 11,
      "outputs": [
        {
          "output_type": "stream",
          "name": "stdout",
          "text": [
            "Confusion matrix:\n",
            "[[21  0  0  0  0  0  0  0  0  0]\n",
            " [ 0 23  0  0  0  0  0  0  0  0]\n",
            " [ 0  0 19  0  0  0  0  0  0  0]\n",
            " [ 0  0  1 21  0  0  0  0  0  0]\n",
            " [ 0  0  0  0 16  0  0  0  0  0]\n",
            " [ 0  0  0  0  0 16  1  0  0  0]\n",
            " [ 0  0  0  0  0  0 17  0  0  0]\n",
            " [ 0  0  0  0  0  0  0 17  0  0]\n",
            " [ 0  0  0  0  0  0  0  0 12  0]\n",
            " [ 0  0  0  0  0  0  0  0  1 15]]\n"
          ]
        },
        {
          "output_type": "execute_result",
          "data": {
            "text/plain": [
              "<function matplotlib.pyplot.show>"
            ]
          },
          "metadata": {},
          "execution_count": 11
        },
        {
          "output_type": "display_data",
          "data": {
            "image/png": "[encoded data removed]",
            "text/plain": [
              "<Figure size 432x288 with 2 Axes>"
            ]
          },
          "metadata": {
            "needs_background": "light"
          }
        }
      ]
    },
    {
      "cell_type": "code",
      "metadata": {
        "id": "LIO2K2f9nH8L"
      },
      "source": [
        ""
      ],
      "execution_count": null,
      "outputs": []
    }
  ]
}